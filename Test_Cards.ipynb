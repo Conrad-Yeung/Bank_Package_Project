{
 "cells": [
  {
   "cell_type": "markdown",
   "metadata": {},
   "source": [
    "#### Sub-package: Cards\n",
    "#### Modules: Card, Credit, Debit\n",
    "#### Unit Testing Modules: TestBaseCard, TestCreditCard, TestDebitCard\n",
    "#### Author: Aamir Khan"
   ]
  },
  {
   "cell_type": "code",
   "execution_count": 1,
   "metadata": {},
   "outputs": [],
   "source": [
    "import unittest\n",
    "from test_cards.test_cards_base import TestBaseCard\n",
    "from test_cards.test_cards_credit import TestCreditCard\n",
    "from test_cards.test_cards_debit import TestDebitCard"
   ]
  },
  {
   "cell_type": "code",
   "execution_count": 2,
   "metadata": {},
   "outputs": [
    {
     "name": "stderr",
     "output_type": "stream",
     "text": [
      ".."
     ]
    },
    {
     "name": "stdout",
     "output_type": "stream",
     "text": [
      "---TestDebitCard: Creating 'debit' class objects\n",
      "Account successfully created.\n",
      "\tAccount Title: debit card customer 1\n",
      "\tAccount No.: 1214\n",
      "\tCard No.: 10007\n",
      "\tAccount Balance: 20000\n",
      "\tDaily Transaction Limit: 500\n",
      "\tDebit Card Type: platinum\n",
      "Account successfully created.\n",
      "\tAccount Title: debit card customer 2\n",
      "\tAccount No.: 1215\n",
      "\tCard No.: 10008\n",
      "\tAccount Balance: 10500\n",
      "\tDaily Transaction Limit: 500\n",
      "\tDebit Card Type: platinum\n",
      "---TestDebitCard: Set up\n",
      "Changing debit card type.\n",
      "\tAccount Holder: debit card customer 1\n",
      "\tCard Number: 10007\n",
      "\tCurrent Balance: $20000.00\n",
      "\tYour debit card type has been set to Gold\n",
      "Changing debit card type.\n",
      "\tAccount Holder: debit card customer 2\n",
      "\tCard Number: 10008\n",
      "\tCurrent Balance: $10500.00\n",
      "\tYour debit card type has been set to Platinum\n",
      ">>>>>>>>>>>>>>>> My test\n",
      "Changing debit card type.\n",
      "\tAccount Holder: debit card customer 1\n",
      "\tCard Number: 10007\n",
      "\tCurrent Balance: $20000.00\n",
      "Enter a valid card type.\n",
      "\n",
      "Unexpected error occurred.\n",
      "---TestDebitCard: Function changeCardType testing ... Successful\n",
      "---TestDebitCard: Tear down\n",
      "---TestDebitCard: Set up\n",
      "Changing debit card daily transaction limit.\n",
      "\tAccount Holder: debit card customer 1\n",
      "\tCard Number: 10007\n",
      "\tCurrent Balance: $20000.00\n",
      "\tYour daily transaction limit has increased from $500.00 to $2500.00.\n",
      "\n",
      "Changing debit card daily transaction limit.\n",
      "\tAccount Holder: debit card customer 2\n",
      "\tCard Number: 10008\n",
      "\tCurrent Balance: $10500.00\n",
      "\tYour daily transaction limit has increased from $500.00 to $3500.00.\n",
      "\n",
      "---TestDebitCard: Function setTransactionLimit testing ... Successful\n",
      "---TestDebitCard: Tear down\n",
      "---TestDebitCard: tearDownClass\n",
      "<unittest.runner.TextTestResult run=2 errors=0 failures=0>\n"
     ]
    },
    {
     "name": "stderr",
     "output_type": "stream",
     "text": [
      "\n",
      "----------------------------------------------------------------------\n",
      "Ran 2 tests in 0.011s\n",
      "\n",
      "OK\n"
     ]
    }
   ],
   "source": [
    "# Suite unit as explained in the lecture\n",
    "def suite_cards():\n",
    "    suite = unittest.TestSuite()\n",
    "    result = unittest.TestResult()\n",
    "#     suite.addTest(unittest.makeSuite(TestBaseCard))\n",
    "#     suite.addTest(unittest.makeSuite(TestCreditCard))\n",
    "    suite.addTest(unittest.makeSuite(TestDebitCard))\n",
    "    runner = unittest.TextTestRunner()\n",
    "    print(runner.run(suite))\n",
    "suite_cards()"
   ]
  },
  {
   "cell_type": "code",
   "execution_count": null,
   "metadata": {},
   "outputs": [],
   "source": []
  },
  {
   "cell_type": "code",
   "execution_count": null,
   "metadata": {},
   "outputs": [],
   "source": []
  },
  {
   "cell_type": "code",
   "execution_count": null,
   "metadata": {},
   "outputs": [],
   "source": []
  },
  {
   "cell_type": "code",
   "execution_count": null,
   "metadata": {},
   "outputs": [],
   "source": []
  },
  {
   "cell_type": "code",
   "execution_count": null,
   "metadata": {},
   "outputs": [],
   "source": []
  }
 ],
 "metadata": {
  "kernelspec": {
   "display_name": "Python 3",
   "language": "python",
   "name": "python3"
  },
  "language_info": {
   "codemirror_mode": {
    "name": "ipython",
    "version": 3
   },
   "file_extension": ".py",
   "mimetype": "text/x-python",
   "name": "python",
   "nbconvert_exporter": "python",
   "pygments_lexer": "ipython3",
   "version": "3.8.3"
  }
 },
 "nbformat": 4,
 "nbformat_minor": 4
}
