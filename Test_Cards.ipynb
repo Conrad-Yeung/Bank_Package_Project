{
 "cells": [
  {
   "cell_type": "markdown",
   "metadata": {},
   "source": [
    "#### Sub-package: Cards\n",
    "#### Modules: Card, Credit, Debit\n",
    "#### Unit Testing Modules: TestBaseCard, TestCreditCard, TestDebitCard\n",
    "#### Author: Aamir Khan"
   ]
  },
  {
   "cell_type": "code",
   "execution_count": 1,
   "metadata": {},
   "outputs": [],
   "source": [
    "import unittest\n",
    "from test_cards.test_cards_base import TestBaseCard\n",
    "from test_cards.test_cards_credit import TestCreditCard\n",
    "from test_cards.test_cards_debit import TestDebitCard"
   ]
  },
  {
   "cell_type": "code",
   "execution_count": 2,
   "metadata": {},
   "outputs": [
    {
     "name": "stderr",
     "output_type": "stream",
     "text": [
      "..."
     ]
    },
    {
     "name": "stdout",
     "output_type": "stream",
     "text": [
      "---TestBaseCard: Creating 'base cards' class objects\n",
      "Account successfully created.\n",
      "\tAccount Title: Base Customer 1\n",
      "\tAccount No.: 1214\n",
      "\tCard No.: 12141214\n",
      "\tAccount Balance: 1000\n",
      "Account successfully created.\n",
      "\tAccount Title: Base Customer 2\n",
      "\tAccount No.: 1215\n",
      "\tCard No.: 12151215\n",
      "\tAccount Balance: 0\n",
      "---TestBaseCard: Set up\n",
      "---TestBaseCard: Initial balance testing ... Successful\n",
      "---TestBaseCard: Tear down\n",
      "---TestBaseCard: Set up\n",
      "Card pin code successfully changed!\n",
      "Card pin code successfully changed!\n",
      "---TestBaseCard: Function changePIN testing ... Successful\n",
      "---TestBaseCard: Tear down\n",
      "---TestBaseCard: Set up\n",
      "---TestBaseCard: Function checkCode testing ... Successful\n",
      "---TestBaseCard: Tear down\n",
      "---TestBaseCard: tearDownClass\n",
      "<unittest.runner.TextTestResult run=3 errors=0 failures=0>\n"
     ]
    },
    {
     "name": "stderr",
     "output_type": "stream",
     "text": [
      "\n",
      "----------------------------------------------------------------------\n",
      "Ran 3 tests in 0.010s\n",
      "\n",
      "OK\n"
     ]
    }
   ],
   "source": [
    "# Suite unit as explained in the lecture\n",
    "def suite_cards():\n",
    "    suite = unittest.TestSuite()\n",
    "    result = unittest.TestResult()\n",
    "    suite.addTest(unittest.makeSuite(TestBaseCard))\n",
    "#     suite.addTest(unittest.makeSuite(TestCreditCard))\n",
    "#     suite.addTest(unittest.makeSuite(TestDebitCard))\n",
    "    runner = unittest.TextTestRunner()\n",
    "    print(runner.run(suite))\n",
    "suite_cards()"
   ]
  },
  {
   "cell_type": "code",
   "execution_count": null,
   "metadata": {},
   "outputs": [],
   "source": []
  },
  {
   "cell_type": "code",
   "execution_count": null,
   "metadata": {},
   "outputs": [],
   "source": []
  },
  {
   "cell_type": "code",
   "execution_count": null,
   "metadata": {},
   "outputs": [],
   "source": []
  },
  {
   "cell_type": "code",
   "execution_count": null,
   "metadata": {},
   "outputs": [],
   "source": []
  },
  {
   "cell_type": "code",
   "execution_count": null,
   "metadata": {},
   "outputs": [],
   "source": []
  }
 ],
 "metadata": {
  "kernelspec": {
   "display_name": "Python 3",
   "language": "python",
   "name": "python3"
  },
  "language_info": {
   "codemirror_mode": {
    "name": "ipython",
    "version": 3
   },
   "file_extension": ".py",
   "mimetype": "text/x-python",
   "name": "python",
   "nbconvert_exporter": "python",
   "pygments_lexer": "ipython3",
   "version": "3.8.3"
  }
 },
 "nbformat": 4,
 "nbformat_minor": 4
}
