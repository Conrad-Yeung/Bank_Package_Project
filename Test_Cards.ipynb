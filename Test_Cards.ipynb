{
 "cells": [
  {
   "cell_type": "markdown",
   "metadata": {},
   "source": [
    "#### Sub-package: Cards\n",
    "#### Modules: Card, Credit, Debit\n",
    "#### Unit Testing Modules: TestBaseCard, TestCreditCard, TestDebitCard\n",
    "#### Author: Aamir Khan"
   ]
  },
  {
   "cell_type": "code",
   "execution_count": 1,
   "metadata": {},
   "outputs": [],
   "source": [
    "import unittest\n",
    "from test_cards.test_cards_base import TestBaseCard\n",
    "from test_cards.test_cards_credit import TestCreditCard\n",
    "from test_cards.test_cards_debit import TestDebitCard"
   ]
  },
  {
   "cell_type": "code",
   "execution_count": 2,
   "metadata": {},
   "outputs": [
    {
     "name": "stderr",
     "output_type": "stream",
     "text": [
      "..."
     ]
    },
    {
     "name": "stdout",
     "output_type": "stream",
     "text": [
      "---TestCreditCard: Creating 'credit' class objects\n",
      "Account successfully created.\n",
      "\tAccount Title: credit customer 1\n",
      "\tAccount No.: 1214\n",
      "\tCard No.: 12140000\n",
      "\tAccount Balance: 2000\n",
      "\tCredit Limit: 0\n",
      "\tInterest Rate: 0\n",
      "Account successfully created.\n",
      "\tAccount Title: credit customer 2\n",
      "\tAccount No.: 1215\n",
      "\tCard No.: 12150000\n",
      "\tAccount Balance: 1500\n",
      "\tCredit Limit: 0\n",
      "\tInterest Rate: 0\n",
      "---TestCreditCard: Set up\n",
      "Attempting to charge payment.\n",
      "\t$100.00 has been withdrawn from card no. 12140000 at Testing Unit 1.\n",
      "\tAvailable balance: $1900.00.\n",
      "\n",
      "Attempting to charge payment.\n",
      "\t$50.00 has been withdrawn from card no. 12150000 at Testing Unit 2.\n",
      "\tAvailable balance: $1450.00.\n",
      "\n",
      "---TestCreditCard: Function makePayment testing ... Successful\n",
      "---TestCreditCard: Tear down\n",
      "---TestCreditCard: Set up\n",
      "Changing account credit limit.\n",
      "\tAccount Holder: credit customer 1\n",
      "\tCard Number: 12140000\n",
      "\tCurrent Balance: $1900.00\n",
      "\tYour card credit limit has increased from $0.00 to $1500.00.\n",
      "\n",
      "Changing account credit limit.\n",
      "\tAccount Holder: credit customer 2\n",
      "\tCard Number: 12150000\n",
      "\tCurrent Balance: $1450.00\n",
      "\tYour card credit limit has increased from $0.00 to $500.00.\n",
      "\n",
      "---TestCreditCard: Function setCreditLimit testing ... Successful\n",
      "---TestCreditCard: Tear down\n",
      "---TestCreditCard: Set up\n",
      "Changing account interest rate.\n",
      "\tAccount Holder: credit customer 1\n",
      "\tCard Number: 12140000\n",
      "\tCurrent Balance: $1900.00\n",
      "\tYour card interest rate has increased from 0.00% to 7.00%.\n",
      "\n",
      "Changing account interest rate.\n",
      "\tAccount Holder: credit customer 2\n",
      "\tCard Number: 12150000\n",
      "\tCurrent Balance: $1450.00\n",
      "\tYour card interest rate is already 0.00%.\n",
      "\n",
      "---TestCreditCard: Function setInterestRate testing ... Successful\n",
      "---TestCreditCard: Tear down\n",
      "---TestCreditCard: tearDownClass\n",
      "<unittest.runner.TextTestResult run=3 errors=0 failures=0>\n"
     ]
    },
    {
     "name": "stderr",
     "output_type": "stream",
     "text": [
      "\n",
      "----------------------------------------------------------------------\n",
      "Ran 3 tests in 0.006s\n",
      "\n",
      "OK\n"
     ]
    }
   ],
   "source": [
    "# Suite unit as explained in the lecture\n",
    "def suite_cards():\n",
    "    suite = unittest.TestSuite()\n",
    "    result = unittest.TestResult()\n",
    "#     suite.addTest(unittest.makeSuite(TestBaseCard))\n",
    "    suite.addTest(unittest.makeSuite(TestCreditCard))\n",
    "#     suite.addTest(unittest.makeSuite(TestDebitCard))\n",
    "    runner = unittest.TextTestRunner()\n",
    "    print(runner.run(suite))\n",
    "suite_cards()"
   ]
  },
  {
   "cell_type": "code",
   "execution_count": null,
   "metadata": {},
   "outputs": [],
   "source": []
  },
  {
   "cell_type": "code",
   "execution_count": null,
   "metadata": {},
   "outputs": [],
   "source": []
  },
  {
   "cell_type": "code",
   "execution_count": null,
   "metadata": {},
   "outputs": [],
   "source": []
  },
  {
   "cell_type": "code",
   "execution_count": null,
   "metadata": {},
   "outputs": [],
   "source": []
  },
  {
   "cell_type": "code",
   "execution_count": null,
   "metadata": {},
   "outputs": [],
   "source": []
  }
 ],
 "metadata": {
  "kernelspec": {
   "display_name": "Python 3",
   "language": "python",
   "name": "python3"
  },
  "language_info": {
   "codemirror_mode": {
    "name": "ipython",
    "version": 3
   },
   "file_extension": ".py",
   "mimetype": "text/x-python",
   "name": "python",
   "nbconvert_exporter": "python",
   "pygments_lexer": "ipython3",
   "version": "3.8.3"
  }
 },
 "nbformat": 4,
 "nbformat_minor": 4
}
