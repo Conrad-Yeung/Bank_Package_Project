{
 "cells": [
  {
   "cell_type": "code",
   "execution_count": 2,
   "metadata": {},
   "outputs": [],
   "source": [
    "import unittest\n",
    "from testclass.accounting_chequingtest import Testchequing\n",
    "from testclass.accounting_savingtest import Testsaving"
   ]
  },
  {
   "cell_type": "code",
   "execution_count": 9,
   "metadata": {},
   "outputs": [],
   "source": [
    "def my_suite():\n",
    "    suite = unittest.TestSuite()\n",
    "    result = unittest.TestResult()\n",
    "    suite.addTest(unittest.makeSuite(Testchequing))\n",
    "    suite.addTest(unittest.makeSuite(Testsaving))\n",
    "    runner = unittest.TextTestRunner()\n",
    "    print(runner.run(suite))"
   ]
  },
  {
   "cell_type": "code",
   "execution_count": 5,
   "metadata": {},
   "outputs": [
    {
     "name": "stderr",
     "output_type": "stream",
     "text": [
      ".EE..E..."
     ]
    },
    {
     "name": "stdout",
     "output_type": "stream",
     "text": [
      "Class created\n",
      "\tStart Test\n",
      "Testing chequing.deposit\n",
      "Deposit must be non-negative. Please Try again.\n",
      "Deposit must be non-negative. Please Try again.\n",
      "\tTest Complete\n",
      "\n",
      "\tStart Test\n",
      "Testing chequing.withdraw\n",
      "Withdraw must be non-negative. Please Try again.\n",
      "Withdraw must be non-negative. Please Try again.\n",
      "\tTest Complete\n",
      "\n",
      "\tStart Test\n",
      "Testing chequing.change_lim\n",
      "\tTest Complete\n",
      "\n",
      "\tStart Test\n",
      "Testing chequing.bal_hist and .bal_time\n",
      "\tTest Complete\n",
      "\n",
      "Class torn down\n",
      "#################\n",
      "Class created\n",
      "\tStart Test\n",
      "Testing saving.deposit\n",
      "Deposit must be non-negative. Please Try again.\n",
      "Deposit must be non-negative. Please Try again.\n",
      "\tTest Complete\n",
      "\n",
      "\tStart Test\n",
      "Testing saving.withdraw\n",
      "Withdraw must be non-negative. Please Try again.\n",
      "Withdraw must be non-negative. Please Try again.\n",
      "\tTest Complete\n",
      "\n",
      "\tStart Test\n",
      "Testing saving.change_lim\n",
      "Limit must be non-negative. Please Try again.\n",
      "\tTest Complete\n",
      "\n",
      "\tStart Test\n",
      "Testing saving.setfixdeposit\n",
      "\tTest Complete\n",
      "\n",
      "\tStart Test\n",
      "Testing saving.bal_hist and .bal_time\n",
      "\tTest Complete\n",
      "\n",
      "Class torn down\n",
      "<unittest.runner.TextTestResult run=9 errors=3 failures=0>\n"
     ]
    },
    {
     "name": "stderr",
     "output_type": "stream",
     "text": [
      "\n",
      "======================================================================\n",
      "ERROR: test_2withdraw (testclass.accounting_chequingtest.Testchequing)\n",
      "----------------------------------------------------------------------\n",
      "Traceback (most recent call last):\n",
      "  File \"C:\\Users\\PC\\Desktop\\Work\\Data 533\\Data-533-Lab-4\\testclass\\accounting_chequingtest.py\", line 53, in test_2withdraw\n",
      "    self.cheq1.withdraw(1500.1)\n",
      "  File \"C:\\Users\\PC\\Desktop\\Work\\Data 533\\Data-533-Lab-4\\Bank\\accounts\\chequing.py\", line 143, in withdraw\n",
      "    raise SPEND_LESS(amount,self.trans_lim)\n",
      "Bank.accounts.chequing.SPEND_LESS: You are unable to withdraw $1500.10. Current transaction limit is $1000.00.\n",
      "\n",
      "======================================================================\n",
      "ERROR: test_3change_lim (testclass.accounting_chequingtest.Testchequing)\n",
      "----------------------------------------------------------------------\n",
      "Traceback (most recent call last):\n",
      "  File \"C:\\Users\\PC\\Desktop\\Work\\Data 533\\Data-533-Lab-4\\testclass\\accounting_chequingtest.py\", line 69, in test_3change_lim\n",
      "    self.cheq2.withdraw(21)\n",
      "  File \"C:\\Users\\PC\\Desktop\\Work\\Data 533\\Data-533-Lab-4\\Bank\\accounts\\chequing.py\", line 143, in withdraw\n",
      "    raise SPEND_LESS(amount,self.trans_lim)\n",
      "Bank.accounts.chequing.SPEND_LESS: You are unable to withdraw $21.00. Current transaction limit is $20.00.\n",
      "\n",
      "======================================================================\n",
      "ERROR: test_2withdraw (testclass.accounting_savingtest.Testsaving)\n",
      "----------------------------------------------------------------------\n",
      "Traceback (most recent call last):\n",
      "  File \"C:\\Users\\PC\\Desktop\\Work\\Data 533\\Data-533-Lab-4\\testclass\\accounting_savingtest.py\", line 53, in test_2withdraw\n",
      "    self.sav1.withdraw(1500.1)\n",
      "  File \"C:\\Users\\PC\\Desktop\\Work\\Data 533\\Data-533-Lab-4\\Bank\\accounts\\saving.py\", line 173, in withdraw\n",
      "    raise SPEND_LESS(amount,self.trans_lim)\n",
      "Bank.accounts.saving.SPEND_LESS: You are unable to withdraw $1500.10. Current transaction limit is $1000.00.\n",
      "\n",
      "----------------------------------------------------------------------\n",
      "Ran 9 tests in 0.015s\n",
      "\n",
      "FAILED (errors=3)\n"
     ]
    }
   ],
   "source": [
    "my_suite()"
   ]
  },
  {
   "cell_type": "code",
   "execution_count": null,
   "metadata": {},
   "outputs": [],
   "source": []
  }
 ],
 "metadata": {
  "kernelspec": {
   "display_name": "Python 3",
   "language": "python",
   "name": "python3"
  },
  "language_info": {
   "codemirror_mode": {
    "name": "ipython",
    "version": 3
   },
   "file_extension": ".py",
   "mimetype": "text/x-python",
   "name": "python",
   "nbconvert_exporter": "python",
   "pygments_lexer": "ipython3",
   "version": "3.8.3"
  }
 },
 "nbformat": 4,
 "nbformat_minor": 4
}
