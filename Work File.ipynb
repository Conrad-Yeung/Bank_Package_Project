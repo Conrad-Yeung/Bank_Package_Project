{
 "cells": [
  {
   "cell_type": "code",
   "execution_count": 1,
   "metadata": {},
   "outputs": [
    {
     "name": "stdout",
     "output_type": "stream",
     "text": [
      "123 is not a real name as it contains numbers. Try again.\n"
     ]
    }
   ],
   "source": [
    "from Bank.accounts import saving as ac\n",
    "me = ac.Saving(123,123)"
   ]
  },
  {
   "cell_type": "code",
   "execution_count": 2,
   "metadata": {},
   "outputs": [
    {
     "name": "stdout",
     "output_type": "stream",
     "text": [
      "CAW123 is not a real name as it contains numbers. Try again.\n"
     ]
    }
   ],
   "source": [
    "me=ac.Saving(\"CAW123\",123)"
   ]
  },
  {
   "cell_type": "code",
   "execution_count": 3,
   "metadata": {},
   "outputs": [
    {
     "name": "stdout",
     "output_type": "stream",
     "text": [
      "Please enter a numerical value for the initial deposit to your account. Please try again.\n"
     ]
    }
   ],
   "source": [
    "me=ac.Saving(\"Conrad\",\"awd\")"
   ]
  },
  {
   "cell_type": "code",
   "execution_count": 4,
   "metadata": {},
   "outputs": [
    {
     "name": "stdout",
     "output_type": "stream",
     "text": [
      "Initial deposit must be non-negative. Please Try again.\n"
     ]
    }
   ],
   "source": [
    "me=ac.Saving(\"Conrad\",-69)"
   ]
  },
  {
   "cell_type": "code",
   "execution_count": 5,
   "metadata": {},
   "outputs": [
    {
     "name": "stdout",
     "output_type": "stream",
     "text": [
      "Please enter a numerical value for the max limit to your account. Please try again.\n"
     ]
    }
   ],
   "source": [
    "me=ac.Saving(\"Conrad\",69,\"awd\")"
   ]
  },
  {
   "cell_type": "code",
   "execution_count": 6,
   "metadata": {},
   "outputs": [
    {
     "name": "stdout",
     "output_type": "stream",
     "text": [
      "Max limit must be non-negative. Please Try again.\n"
     ]
    }
   ],
   "source": [
    "me=ac.Saving(\"Conrad\",69,-1)"
   ]
  },
  {
   "cell_type": "code",
   "execution_count": 7,
   "metadata": {},
   "outputs": [],
   "source": [
    "from Bank.accounts import saving as ac\n"
   ]
  },
  {
   "cell_type": "code",
   "execution_count": 8,
   "metadata": {},
   "outputs": [
    {
     "name": "stdout",
     "output_type": "stream",
     "text": [
      "Deposit must be non-negative. Please Try again.\n",
      "Please enter a numerical value for the deposit. Please try again\n",
      "$100.00 has been deposited to account 99797552.\n",
      "Current balance: $1100.00.\n",
      "\n",
      "1100\n",
      "Withdraw must be non-negative. Please Try again.\n",
      "1000\n",
      "Please enter a numerical value for the withdraw to your account. Please try again.\n",
      "You are unable to withdraw $1001.00. Current transaction limit is $1000.00.\n"
     ]
    }
   ],
   "source": [
    "me=ac.Saving(\"Conrad\",1000)\n",
    "me.deposit(-12)\n",
    "me.deposit(\"AWDA\")\n",
    "me.deposit(100)\n",
    "print (me.bal)\n",
    "me.withdraw(-121312)\n",
    "print(me.trans_lim)\n",
    "me.withdraw(\"awdw\")\n",
    "me.withdraw(1001)"
   ]
  },
  {
   "cell_type": "code",
   "execution_count": 9,
   "metadata": {},
   "outputs": [
    {
     "name": "stdout",
     "output_type": "stream",
     "text": [
      "Limit must be non-negative. Please Try again.\n",
      "Please enter a numerical value for the max limit to your account. Please try again.\n",
      "Your transaction limit has increased from $1000.00 to $123123.00.\n",
      "\n"
     ]
    }
   ],
   "source": [
    "me.change_lim(-12)\n",
    "me.change_lim(\"AWD\")\n",
    "me.change_lim(123123)"
   ]
  },
  {
   "cell_type": "code",
   "execution_count": 10,
   "metadata": {},
   "outputs": [
    {
     "name": "stdout",
     "output_type": "stream",
     "text": [
      "Fixed deposit must be non-negative. Please Try again.\n",
      "Please enter a numerical value for your fixed deposit. Please try again.\n",
      "Your deposit of $123123.00 has been fixed for a year with an interest rate of 1.00%.\n",
      "On 2021/12/09, $124354.23 will be added to your Savings account.\n",
      "\n"
     ]
    }
   ],
   "source": [
    "me.setfixdeposit(-12)\n",
    "me.setfixdeposit(\"AWD\")\n",
    "me.setfixdeposit(123123)"
   ]
  },
  {
   "cell_type": "code",
   "execution_count": 11,
   "metadata": {},
   "outputs": [
    {
     "name": "stdout",
     "output_type": "stream",
     "text": [
      "Interest Rate must be non-negative. Please Try again.\n",
      "Please enter a numerical value for the Interest Rate of your deposit. Please try again.\n"
     ]
    }
   ],
   "source": [
    "me.setfixdeposit(100,-0.12)\n",
    "me.setfixdeposit(100,\"AWD\")"
   ]
  },
  {
   "cell_type": "code",
   "execution_count": 15,
   "metadata": {},
   "outputs": [
    {
     "name": "stdout",
     "output_type": "stream",
     "text": [
      "0\n",
      "1\n",
      "2\n",
      "3\n",
      "4\n",
      "5\n",
      "6\n",
      "7\n",
      "8\n",
      "9\n",
      "10\n",
      "11\n",
      "12\n",
      "13\n",
      "14\n",
      "15\n",
      "16\n",
      "17\n",
      "18\n",
      "19\n",
      "20\n",
      "21\n",
      "22\n",
      "23\n",
      "24\n",
      "25\n",
      "26\n",
      "27\n",
      "28\n",
      "29\n"
     ]
    }
   ],
   "source": [
    "for i in range(0,30):\n",
    "    print(i)"
   ]
  },
  {
   "cell_type": "code",
   "execution_count": 11,
   "metadata": {},
   "outputs": [],
   "source": [
    "from Bank.accounts import saving as ac\n",
    "wow = ac.Saving(\"Conrad Yeung\", 1500)"
   ]
  },
  {
   "cell_type": "code",
   "execution_count": 12,
   "metadata": {},
   "outputs": [
    {
     "name": "stdout",
     "output_type": "stream",
     "text": [
      "$0.00 has been deposited to account 60234329.\n",
      "Current balance: $1500.00.\n",
      "\n",
      "$0.00 has been deposited to account 60234329.\n",
      "Current balance: $1500.00.\n",
      "\n",
      "$0.00 has been deposited to account 60234329.\n",
      "Current balance: $1500.00.\n",
      "\n",
      "$0.00 has been deposited to account 60234329.\n",
      "Current balance: $1500.00.\n",
      "\n",
      "$0.00 has been deposited to account 60234329.\n",
      "Current balance: $1500.00.\n",
      "\n",
      "$0.00 has been deposited to account 60234329.\n",
      "Current balance: $1500.00.\n",
      "\n",
      "$0.00 has been deposited to account 60234329.\n",
      "Current balance: $1500.00.\n",
      "\n",
      "$0.00 has been deposited to account 60234329.\n",
      "Current balance: $1500.00.\n",
      "\n",
      "$0.00 has been deposited to account 60234329.\n",
      "Current balance: $1500.00.\n",
      "\n",
      "$0.00 has been deposited to account 60234329.\n",
      "Current balance: $1500.00.\n",
      "\n",
      "$0.00 has been deposited to account 60234329.\n",
      "Current balance: $1500.00.\n",
      "\n",
      "$0.00 has been deposited to account 60234329.\n",
      "Current balance: $1500.00.\n",
      "\n",
      "$0.00 has been deposited to account 60234329.\n",
      "Current balance: $1500.00.\n",
      "\n",
      "$0.00 has been deposited to account 60234329.\n",
      "Current balance: $1500.00.\n",
      "\n",
      "$0.00 has been deposited to account 60234329.\n",
      "Current balance: $1500.00.\n",
      "\n",
      "$0.00 has been deposited to account 60234329.\n",
      "Current balance: $1500.00.\n",
      "\n",
      "$0.00 has been deposited to account 60234329.\n",
      "Current balance: $1500.00.\n",
      "\n",
      "$0.00 has been deposited to account 60234329.\n",
      "Current balance: $1500.00.\n",
      "\n",
      "$0.00 has been deposited to account 60234329.\n",
      "Current balance: $1500.00.\n",
      "\n",
      "$0.00 has been deposited to account 60234329.\n",
      "Current balance: $1500.00.\n",
      "\n",
      "$0.00 has been deposited to account 60234329.\n",
      "Current balance: $1500.00.\n",
      "\n",
      "$0.00 has been deposited to account 60234329.\n",
      "Current balance: $1500.00.\n",
      "\n",
      "$0.00 has been deposited to account 60234329.\n",
      "Current balance: $1500.00.\n",
      "\n",
      "$0.00 has been deposited to account 60234329.\n",
      "Current balance: $1500.00.\n",
      "\n",
      "$0.00 has been deposited to account 60234329.\n",
      "Current balance: $1500.00.\n",
      "\n",
      "$0.00 has been deposited to account 60234329.\n",
      "Current balance: $1500.00.\n",
      "\n",
      "$0.00 has been deposited to account 60234329.\n",
      "Current balance: $1500.00.\n",
      "\n",
      "$0.00 has been deposited to account 60234329.\n",
      "Current balance: $1500.00.\n",
      "\n",
      "$0.00 has been deposited to account 60234329.\n",
      "Current balance: $1500.00.\n",
      "\n"
     ]
    }
   ],
   "source": [
    "for i in range(0,29):\n",
    "    wow.deposit(0)"
   ]
  },
  {
   "cell_type": "code",
   "execution_count": 13,
   "metadata": {},
   "outputs": [
    {
     "name": "stdout",
     "output_type": "stream",
     "text": [
      "$500.00 has been deposited to account 60234329.\n",
      "Current balance: $2000.00.\n",
      "\n"
     ]
    }
   ],
   "source": [
    "wow.deposit(500)"
   ]
  },
  {
   "cell_type": "code",
   "execution_count": 16,
   "metadata": {},
   "outputs": [
    {
     "data": {
      "text/plain": [
       "[1500,\n",
       " 1500,\n",
       " 1500,\n",
       " 1500,\n",
       " 1500,\n",
       " 1500,\n",
       " 1500,\n",
       " 1500,\n",
       " 1500,\n",
       " 1500,\n",
       " 1500,\n",
       " 1500,\n",
       " 1500,\n",
       " 1500,\n",
       " 1500,\n",
       " 1500,\n",
       " 1500,\n",
       " 1500,\n",
       " 1500,\n",
       " 1500,\n",
       " 1500,\n",
       " 1500,\n",
       " 1500,\n",
       " 1500,\n",
       " 1500,\n",
       " 1500,\n",
       " 1500,\n",
       " 1500,\n",
       " 1500,\n",
       " 2000]"
      ]
     },
     "execution_count": 16,
     "metadata": {},
     "output_type": "execute_result"
    }
   ],
   "source": [
    "wow.bal_hist"
   ]
  },
  {
   "cell_type": "code",
   "execution_count": 8,
   "metadata": {},
   "outputs": [
    {
     "data": {
      "text/plain": [
       "29"
      ]
     },
     "execution_count": 8,
     "metadata": {},
     "output_type": "execute_result"
    }
   ],
   "source": [
    "len(wow.recent_transact)"
   ]
  },
  {
   "cell_type": "code",
   "execution_count": 17,
   "metadata": {},
   "outputs": [
    {
     "data": {
      "text/plain": [
       "45500"
      ]
     },
     "execution_count": 17,
     "metadata": {},
     "output_type": "execute_result"
    }
   ],
   "source": [
    "wow.recent_transact\n",
    "1500*29+2000"
   ]
  },
  {
   "cell_type": "code",
   "execution_count": 18,
   "metadata": {},
   "outputs": [
    {
     "name": "stdout",
     "output_type": "stream",
     "text": [
      "$10.00 has been deposited to account 99369657.\n",
      "Current balance: $210.00.\n",
      "\n"
     ]
    }
   ],
   "source": [
    "ac2 = ac.Saving(\"AWD\",200)\n",
    "ac2.deposit(10)"
   ]
  },
  {
   "cell_type": "code",
   "execution_count": 19,
   "metadata": {},
   "outputs": [
    {
     "data": {
      "text/plain": [
       "[10]"
      ]
     },
     "execution_count": 19,
     "metadata": {},
     "output_type": "execute_result"
    }
   ],
   "source": [
    "ac2.recent_transact"
   ]
  },
  {
   "cell_type": "code",
   "execution_count": 20,
   "metadata": {},
   "outputs": [
    {
     "data": {
      "text/plain": [
       "[200, 210]"
      ]
     },
     "execution_count": 20,
     "metadata": {},
     "output_type": "execute_result"
    }
   ],
   "source": [
    "ac2.bal_hist"
   ]
  },
  {
   "cell_type": "code",
   "execution_count": 24,
   "metadata": {},
   "outputs": [
    {
     "name": "stdout",
     "output_type": "stream",
     "text": [
      "Account Holder: AWD.\n",
      "Current Balance: $210.00.\n",
      "Your balance history for the past 30 transcations:\n",
      "\n",
      "\n",
      "\n"
     ]
    },
    {
     "data": {
      "image/png": "[encoded data removed]",
      "text/plain": [
       "<Figure size 432x288 with 1 Axes>"
      ]
     },
     "metadata": {
      "needs_background": "light"
     },
     "output_type": "display_data"
    }
   ],
   "source": [
    "ac2.summary()"
   ]
  },
  {
   "cell_type": "code",
   "execution_count": null,
   "metadata": {},
   "outputs": [],
   "source": []
  }
 ],
 "metadata": {
  "kernelspec": {
   "display_name": "Python 3",
   "language": "python",
   "name": "python3"
  },
  "language_info": {
   "codemirror_mode": {
    "name": "ipython",
    "version": 3
   },
   "file_extension": ".py",
   "mimetype": "text/x-python",
   "name": "python",
   "nbconvert_exporter": "python",
   "pygments_lexer": "ipython3",
   "version": "3.8.3"
  }
 },
 "nbformat": 4,
 "nbformat_minor": 4
}
